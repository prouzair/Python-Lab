{
  "nbformat": 4,
  "nbformat_minor": 0,
  "metadata": {
    "colab": {
      "provenance": []
    },
    "kernelspec": {
      "name": "python3",
      "display_name": "Python 3"
    },
    "language_info": {
      "name": "python"
    }
  },
  "cells": [
    {
      "cell_type": "markdown",
      "source": [
        "** MUhammad Uzair (FA20BSSE-081)**"
      ],
      "metadata": {
        "id": "3C2qOrR6JbSV"
      }
    },
    {
      "cell_type": "code",
      "source": [
        "a = [\n",
        "     [1, 0, 0],\n",
        "     [0, 1, 0], \n",
        "     [0, 0, 1]\n",
        "\n",
        "     ]\n",
        "b = [\n",
        "    \n",
        "    [1, 2, 3],\n",
        "     [4, 5, 6],\n",
        "     [7, 8, 9] \n",
        "     \n",
        "     ]"
      ],
      "metadata": {
        "id": "-ShwC1eTKT3d"
      },
      "execution_count": null,
      "outputs": []
    },
    {
      "cell_type": "code",
      "execution_count": null,
      "metadata": {
        "colab": {
          "base_uri": "https://localhost:8080/"
        },
        "id": "28njs-zM7pcH",
        "outputId": "399758ff-c0ba-499b-8fa7-c70de8e293aa"
      },
      "outputs": [
        {
          "output_type": "stream",
          "name": "stdout",
          "text": [
            "Enter five values to store in list: \n",
            "1\n",
            "2\n",
            "3\n",
            "uzair\n",
            "kashif\n",
            "['1', '2', '3', 'uzair', 'kashif']\n"
          ]
        }
      ],
      "source": [
        "# write a program to take five values into list\n",
        "\n",
        "llist =[];\n",
        "print(\"Enter five values to store in list: \")\n",
        "\n",
        "for i in range(0,5):\n",
        " val=input()\n",
        " llist.append(val)\n",
        "\n",
        "\n",
        "print(llist)"
      ]
    },
    {
      "cell_type": "code",
      "source": [
        "2\n",
        "# write a progra to take five integer values in a list and show there sum\n",
        "\n",
        "\n",
        "intlist=[]\n",
        "sum=0\n",
        "print(\"Enter five interger values:\")\n",
        "\n",
        "for i in range(0,5):\n",
        "  intva=int(input())\n",
        "  intlist.append(intva)\n",
        "  sum=sum+intlist[i];\n",
        "\n",
        "\n",
        "print(\"Sum of values: \",sum)\n"
      ],
      "metadata": {
        "colab": {
          "base_uri": "https://localhost:8080/"
        },
        "id": "8VLcqXGS709y",
        "outputId": "1d319e45-d749-4263-a5cd-73cf02cd688f"
      },
      "execution_count": null,
      "outputs": [
        {
          "output_type": "stream",
          "name": "stdout",
          "text": [
            "Enter five interger values:\n",
            "1\n",
            "2\n",
            "3\n",
            "8\n",
            "9\n",
            "Sum of values:  23\n"
          ]
        }
      ]
    },
    {
      "cell_type": "code",
      "source": [
        "# find values in list\n",
        "# find values in list\n",
        "\n",
        "\n",
        "intlist=[]\n",
        "flag=True\n",
        "print(\"Enter five interger values:\")\n",
        "\n",
        "for i in range(0,5):\n",
        "  intva=int(input())\n",
        "  intlist.append(intva)\n",
        " \n",
        "\n",
        "\n",
        "print(\"Enter number to find: \")\n",
        "val=int(input())\n",
        "for i in range(0,5):\n",
        "  if(intlist[i]==val):\n",
        "    print(\"Value is at index: \",i)\n",
        "    flag=True\n",
        "    break;\n",
        "  else:\n",
        "   flag=False\n",
        "  \n",
        "  \n",
        "if(flag==False):\n",
        "    print(\"Number is not present.\")\n",
        "\n",
        "\n",
        "    "
      ],
      "metadata": {
        "colab": {
          "base_uri": "https://localhost:8080/"
        },
        "id": "4heCVfRy73Xu",
        "outputId": "71799f2e-7776-42b8-8a79-6f67c8b0e72d"
      },
      "execution_count": null,
      "outputs": [
        {
          "output_type": "stream",
          "name": "stdout",
          "text": [
            "Enter five interger values:\n",
            "2\n",
            "5\n",
            "4\n",
            "8\n",
            "9\n",
            "Enter number to find: \n",
            "9\n",
            "Value is at index:  4\n"
          ]
        }
      ]
    },
    {
      "cell_type": "code",
      "source": [
        "# sort a list\n",
        "\n",
        "\n",
        "intlist=[]\n",
        "sum=0\n",
        "print(\"Enter five interger values:\")\n",
        "\n",
        "for i in range(0,5):\n",
        "  intva=int(input())\n",
        "  intlist.append(intva)\n",
        "  \n",
        "\n",
        "print(\"Unsorted List: \",intlist)\n",
        "intlist.sort()\n",
        "print(\"Sorted List: \",intlist)\n",
        "val=max(intlist)\n",
        "print(\"Greates Values: \",val)\n"
      ],
      "metadata": {
        "colab": {
          "base_uri": "https://localhost:8080/"
        },
        "id": "Q1ucf1IP77Tu",
        "outputId": "be05bcb8-cd6d-4e79-ca6b-745087126cbf"
      },
      "execution_count": null,
      "outputs": [
        {
          "output_type": "stream",
          "name": "stdout",
          "text": [
            "Enter five interger values:\n",
            "1\n",
            "2\n",
            "3\n",
            "4\n",
            "5\n",
            "Unsorted List:  [1, 2, 3, 4, 5]\n",
            "Sorted List:  [1, 2, 3, 4, 5]\n",
            "Greates Values:  5\n"
          ]
        }
      ]
    },
    {
      "cell_type": "code",
      "source": [
        "# appen two list:\n",
        "\n",
        "list1=[]\n",
        "list2=[]\n",
        "\n",
        "print(\"Enter Values for list 1: \")\n",
        "for i in range(0,5):\n",
        "  val=input()\n",
        "  list1.append(val)\n",
        "\n",
        "\n",
        "\n",
        "print(\"Enter Values for list 2: \")\n",
        "for i in range(0,5):\n",
        "  val=input()\n",
        "  list2.append(val)\n",
        "\n",
        "list1.extend(list2)\n",
        "print(\"After appending two list: \",list1)\n"
      ],
      "metadata": {
        "colab": {
          "base_uri": "https://localhost:8080/"
        },
        "id": "TzOCs2Wt78Bb",
        "outputId": "b82ea078-2d2f-46bd-f45e-7a795835bd71"
      },
      "execution_count": null,
      "outputs": [
        {
          "output_type": "stream",
          "name": "stdout",
          "text": [
            "Enter Values for list 1: \n",
            "1\n",
            "2\n",
            "3\n",
            "4\n",
            "5\n",
            "Enter Values for list 2: \n",
            "6\n",
            "4\n",
            "10\n",
            "44\n",
            "65\n",
            "After appending two list:  ['1', '2', '3', '4', '5', '6', '4', '10', '44', '65']\n"
          ]
        }
      ]
    },
    {
      "cell_type": "code",
      "source": [
        "# write a function to say greetings to a person\n",
        "\n",
        "def greet (name):\n",
        "  print(\"Ass-salam-o-alikum\",name)\n",
        "\n",
        "\n",
        "greet(\"uzair\")\n",
        "greet(\"usman\")\n",
        "greet(\"kashif\")\n",
        "\n"
      ],
      "metadata": {
        "colab": {
          "base_uri": "https://localhost:8080/"
        },
        "id": "6fFfMptf7_VA",
        "outputId": "99bda1e5-701a-4a5e-a3d8-6103702e4926"
      },
      "execution_count": null,
      "outputs": [
        {
          "output_type": "stream",
          "name": "stdout",
          "text": [
            "Ass-salam-o-alikum uzair\n",
            "Ass-salam-o-alikum usman\n",
            "Ass-salam-o-alikum kashif\n"
          ]
        }
      ]
    },
    {
      "cell_type": "code",
      "source": [
        "# check palindrom\n",
        "\n",
        "#bcb\n",
        "\n",
        "\n",
        "def checkpalindrom(value):\n",
        "  mylist=[]\n",
        "  mylist2=[]\n",
        "  \n",
        "  for i in range(0,len(value)):\n",
        "    mylist.append(value[i])\n",
        "\n",
        "  for i in range(1,len(value)+1):\n",
        "    mylist2.append(value[-i])\n",
        "\n",
        "  if mylist2==mylist:\n",
        "    print(\"String is Palindrome.\")\n",
        "    \n",
        "  else:\n",
        "    print(\"String is not Palindrome.\")\n",
        "\n",
        "     \n",
        "\n",
        "val=input(\"Enter a string to check for Palindrome: \")\n",
        "checkpalindrom(val)\n"
      ],
      "metadata": {
        "colab": {
          "base_uri": "https://localhost:8080/"
        },
        "id": "8CMZ3Py--aTn",
        "outputId": "a920bf49-3938-4eba-9b9f-f644f217a3fc"
      },
      "execution_count": null,
      "outputs": [
        {
          "output_type": "stream",
          "name": "stdout",
          "text": [
            "Enter a string to check for Palindrome: dad\n",
            "String is Palindrome.\n"
          ]
        }
      ]
    },
    {
      "cell_type": "code",
      "source": [
        "\n",
        "a = [[1, 0, 0], [0, 1, 0], [0, 0, 1] ]\n",
        "b = [[1, 2, 3], [4, 5, 6], [7, 8, 9] ]\n",
        "\n",
        "\n",
        "rows = len(a)\n",
        "cols=len(b[0])\n",
        "\n",
        "rowa=len(a)\n",
        "cola=len(a[0])\n",
        "totala=rowa*cola\n",
        "\n",
        "#no of col of 1 and number of rows of secod  should be equal\n",
        "\n",
        "\n",
        "if rows==cols:\n",
        "    for i in range(0,totala)"
      ],
      "metadata": {
        "id": "ab0TrbQMNKPQ"
      },
      "execution_count": null,
      "outputs": []
    }
  ]
}