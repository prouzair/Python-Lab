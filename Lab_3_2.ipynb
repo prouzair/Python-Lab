{
  "cells": [
    {
      "cell_type": "code",
      "execution_count": null,
      "metadata": {
        "colab": {
          "background_save": true,
          "base_uri": "https://localhost:8080/"
        },
        "id": "BcUCJ9VmuL8v",
        "outputId": "153e0265-6b90-4706-d22c-3b3c5ee4e9fb"
      },
      "outputs": [
        {
          "name": "stdout",
          "output_type": "stream",
          "text": [
            "Enter five values to store in list: \n"
          ]
        }
      ],
      "source": [
        "# write a program to take five values into list\n",
        "\n",
        "llist =[];\n",
        "print(\"Enter five values to store in list: \")\n",
        "\n",
        "for i in range(0,5):\n",
        " val=input()\n",
        " llist.append(val)\n",
        "\n",
        "\n",
        "print(llist)"
      ]
    },
    {
      "cell_type": "code",
      "execution_count": null,
      "metadata": {
        "id": "JRRtjczMzj52"
      },
      "outputs": [],
      "source": [
        "# write a progra to take five integer values in a list and show there sum\n",
        "\n",
        "\n",
        "intlist=[]\n",
        "sum=0\n",
        "print(\"Enter five interger values:\")\n",
        "\n",
        "for i in range(0,5):\n",
        "  intva=int(input())\n",
        "  intlist.append(intva)\n",
        "  sum=sum+intlist[i];\n",
        "\n",
        "\n",
        "print(\"Sum of values: \",sum)\n"
      ]
    },
    {
      "cell_type": "code",
      "execution_count": null,
      "metadata": {
        "id": "hGvU_bcq0qJK"
      },
      "outputs": [],
      "source": [
        "# find values in list\n",
        "# find values in list\n",
        "\n",
        "\n",
        "intlist=[]\n",
        "flag=True\n",
        "print(\"Enter five interger values:\")\n",
        "\n",
        "for i in range(0,5):\n",
        "  intva=int(input())\n",
        "  intlist.append(intva)\n",
        " \n",
        "\n",
        "\n",
        "print(\"Enter number to find: \")\n",
        "val=int(input())\n",
        "for i in range(0,5):\n",
        "  if(intlist[i]==val):\n",
        "    print(\"Value is at index: \",i)\n",
        "    flag=True\n",
        "    break;\n",
        "  else:\n",
        "   flag=False\n",
        "  \n",
        "  \n",
        "if(flag==False):\n",
        "    print(\"Number is not present.\")\n",
        "\n",
        "\n",
        "    "
      ]
    },
    {
      "cell_type": "code",
      "execution_count": null,
      "metadata": {
        "id": "vAA_DRN_263U"
      },
      "outputs": [],
      "source": [
        "# sort a list\n",
        "\n",
        "\n",
        "intlist=[]\n",
        "sum=0\n",
        "print(\"Enter five interger values:\")\n",
        "\n",
        "for i in range(0,5):\n",
        "  intva=int(input())\n",
        "  intlist.append(intva)\n",
        "  \n",
        "\n",
        "print(\"Unsorted List: \",intlist)\n",
        "intlist.sort()\n",
        "print(inlist.max())\n",
        "print(\"Sorted List: \",intlist)\n"
      ]
    },
    {
      "cell_type": "code",
      "execution_count": null,
      "metadata": {
        "id": "HvoINk6D361M"
      },
      "outputs": [],
      "source": [
        "# appen two list:\n",
        "\n",
        "list1=[]\n",
        "list2=[]\n",
        "\n",
        "print(\"Enter Values for list 1: \")\n",
        "for i in range(0,5):\n",
        "  val=input()\n",
        "  list1.append(val)\n",
        "\n",
        "\n",
        "\n",
        "print(\"Enter Values for list 2: \")\n",
        "for i in range(0,5):\n",
        "  val=input()\n",
        "  list2.append(val)\n",
        "\n",
        "\n",
        "lista=list1+list2\n",
        "print(\"After appending two list: \",lista)\n"
      ]
    },
    {
      "cell_type": "code",
      "execution_count": null,
      "metadata": {
        "id": "QiCL7NFc5lOg"
      },
      "outputs": [],
      "source": [
        "# print max value\n",
        "\n",
        "\n",
        "\n",
        "intlist=[]\n",
        "sum=0\n",
        "print(\"Enter five interger values:\")\n",
        "\n",
        "for i in range(0,5):\n",
        "  intva=int(input())\n",
        "  intlist.append(intva)\n",
        "  \n",
        "\n",
        "print(\"Unsorted List: \",intlist)\n",
        "intlist.sort()\n",
        "print(\"Sorted List: \",intlist)\n",
        "val=max(intlist)\n",
        "print(\"Greates Values: \",val)\n"
      ]
    }
  ],
  "metadata": {
    "colab": {
      "toc_visible": true,
      "provenance": []
    },
    "kernelspec": {
      "display_name": "Python 3",
      "name": "python3"
    },
    "language_info": {
      "name": "python"
    }
  },
  "nbformat": 4,
  "nbformat_minor": 0
}