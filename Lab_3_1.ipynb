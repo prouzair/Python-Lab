{
  "nbformat": 4,
  "nbformat_minor": 0,
  "metadata": {
    "colab": {
      "provenance": []
    },
    "kernelspec": {
      "name": "python3",
      "display_name": "Python 3"
    },
    "language_info": {
      "name": "python"
    }
  },
  "cells": [
    {
      "cell_type": "code",
      "execution_count": null,
      "metadata": {
        "colab": {
          "base_uri": "https://localhost:8080/"
        },
        "id": "sNnbmSQIv8Fn",
        "outputId": "3d38ded1-a6e3-403e-c837-b639ea9225ac"
      },
      "outputs": [
        {
          "output_type": "stream",
          "name": "stdout",
          "text": [
            "10\n"
          ]
        }
      ],
      "source": [
        "# 1.print integer\n",
        "\n",
        "print(10)"
      ]
    },
    {
      "cell_type": "code",
      "source": [
        "# 2.print string\n",
        "\n",
        "string = 'I am uzair'\n",
        "multilinestring='''\\n\\nI am uzair \n",
        "an i am from burewala'''\n",
        "\n",
        "print(string)\n",
        "print(multilinestring)"
      ],
      "metadata": {
        "colab": {
          "base_uri": "https://localhost:8080/"
        },
        "id": "X8ziJZXLw8Nn",
        "outputId": "7c32789f-dbb5-4ce8-d777-1a7fe0fde14a"
      },
      "execution_count": null,
      "outputs": [
        {
          "output_type": "stream",
          "name": "stdout",
          "text": [
            "I am uzair\n",
            "\n",
            "\n",
            "\n",
            "I am uzair \n",
            "an i am from burewala\n"
          ]
        }
      ]
    },
    {
      "cell_type": "code",
      "source": [
        "# 3.use python as a calculator\n",
        "\n",
        "\n",
        "print(50-4)\n",
        "print(23.5-2.0)\n",
        "print(23-18.5)\n",
        "print(5*6)\n",
        "print(2.5*10)\n",
        "print(2.5*2.5)\n",
        "print(28/4)\n",
        "print(26/4)\n",
        "print(23.4/3.1)\n",
        "print(2**2)\n",
        "print(12//7)"
      ],
      "metadata": {
        "colab": {
          "base_uri": "https://localhost:8080/"
        },
        "id": "yOGo1rG0xtNL",
        "outputId": "63d64fd0-32e2-4316-9879-b75d1dc2e528"
      },
      "execution_count": null,
      "outputs": [
        {
          "output_type": "stream",
          "name": "stdout",
          "text": [
            "46\n",
            "21.5\n",
            "4.5\n",
            "30\n",
            "25.0\n",
            "6.25\n",
            "7.0\n",
            "6.5\n",
            "7.548387096774193\n",
            "4\n",
            "1\n"
          ]
        }
      ]
    },
    {
      "cell_type": "code",
      "source": [
        "# 4.divide and remainder\n",
        "\n",
        "print(5/3)\n",
        "print(5%3)\n",
        "\n",
        "print(int(5/3))"
      ],
      "metadata": {
        "colab": {
          "base_uri": "https://localhost:8080/"
        },
        "id": "GovSWj4-yfHw",
        "outputId": "17ecfcf5-8361-44d6-c495-e69d78059b1c"
      },
      "execution_count": null,
      "outputs": [
        {
          "output_type": "stream",
          "name": "stdout",
          "text": [
            "1.6666666666666667\n",
            "2\n",
            "1\n"
          ]
        }
      ]
    },
    {
      "cell_type": "code",
      "source": [
        "# 5.find exponent\n",
        "\n",
        "print(4**3)\n",
        "print(4**10)\n",
        "print(4**29)\n",
        "print(4**150)\n",
        "print(4**1000)"
      ],
      "metadata": {
        "colab": {
          "base_uri": "https://localhost:8080/"
        },
        "id": "cILG0CH6zQBt",
        "outputId": "908e6e86-913e-4183-d3ff-c40ab0604c89"
      },
      "execution_count": null,
      "outputs": [
        {
          "output_type": "stream",
          "name": "stdout",
          "text": [
            "64\n",
            "1048576\n",
            "288230376151711744\n",
            "2037035976334486086268445688409378161051468393665936250636140449354381299763336706183397376\n",
            "114813069527425452423283320117768198402231770208869520047764273682576626139237031385665948631650626991844596463898746277344711896086305533142593135616665318539129989145312280000688779148240044871428926990063486244781615463646388363947317026040466353970904996558162398808944629605623311649536164221970332681344168908984458505602379484807914058900934776500429002716706625830522008132236281291761267883317206598995396418127021779858404042159853183251540889433902091920554957783589672039160081957216630582755380425583726015528348786419432054508915275783882625175435528800822842770817965453762184851149029376\n"
          ]
        }
      ]
    },
    {
      "cell_type": "code",
      "source": [
        "# 6.precedence\n",
        "\n",
        "print(2+3*6)\n",
        "print((2+3)*6)\n",
        "print(48565878*578453)\n",
        "print(2+2)\n",
        "print((5-1)*((7+1)/(3-1)))\n",
        "print(5+7)\n",
        "print(42+5**2)"
      ],
      "metadata": {
        "colab": {
          "base_uri": "https://localhost:8080/"
        },
        "id": "Mfm3bln00GJB",
        "outputId": "2bb96573-b87d-4222-e078-04241d7d7383"
      },
      "execution_count": null,
      "outputs": [
        {
          "output_type": "stream",
          "name": "stdout",
          "text": [
            "20\n",
            "30\n",
            "28093077826734\n",
            "4\n",
            "16.0\n",
            "12\n",
            "67\n"
          ]
        }
      ]
    },
    {
      "cell_type": "code",
      "source": [
        "# 7.combine text and numbers.\n",
        "\n",
        "name=\"uzair\"\n",
        "lucky_number=8\n",
        "strr=f\"My name is {name} and my lucky number is {lucky_number}\"\n",
        "print(strr)\n",
        "\n"
      ],
      "metadata": {
        "colab": {
          "base_uri": "https://localhost:8080/"
        },
        "id": "oHivRetv0w2g",
        "outputId": "aed1ad47-bd98-43c5-ce49-7054ff4f1e38"
      },
      "execution_count": null,
      "outputs": [
        {
          "output_type": "stream",
          "name": "stdout",
          "text": [
            "uzair\n",
            "My name is uzair and my lucky number is 8\n"
          ]
        }
      ]
    },
    {
      "cell_type": "code",
      "source": [
        "# 8.take input from user and use it in program\n",
        "\n",
        "name = input(\"Enter your name: \")\n",
        "age = input(\"Enter your age: \")\n",
        "\n",
        "print(f\"Your name is {name} and your age is {age}\")"
      ],
      "metadata": {
        "id": "LZrU77hV1x6k"
      },
      "execution_count": null,
      "outputs": []
    },
    {
      "cell_type": "code",
      "source": [
        "# 9.check number is even or odd\n",
        "\n",
        "number=int(input(\"Enter a number: \"))\n",
        "\n",
        "if(number%2==0):\n",
        "  print(\"Number is even.\")\n",
        "\n",
        "else:\n",
        "  print(\"Number is odd.\")"
      ],
      "metadata": {
        "colab": {
          "base_uri": "https://localhost:8080/"
        },
        "id": "OLahk8Eq2aod",
        "outputId": "1248913b-c62f-4407-a797-4752cb97be0d"
      },
      "execution_count": null,
      "outputs": [
        {
          "output_type": "stream",
          "name": "stdout",
          "text": [
            "Enter a number: 5\n",
            "Number is odd.\n"
          ]
        }
      ]
    },
    {
      "cell_type": "code",
      "source": [
        "# 10.Calculate the sum of all the values between 0-10 using while loop.\n",
        "\n",
        "i=0\n",
        "sum=0\n",
        "while(i<=10):\n",
        "  sum=sum+i\n",
        "  i=i+1\n",
        "\n",
        "print(\"Sum from 0 to 10: \",sum)\n",
        "\n"
      ],
      "metadata": {
        "colab": {
          "base_uri": "https://localhost:8080/"
        },
        "id": "61xrrcJx4RPx",
        "outputId": "925d01d2-e6f0-4f66-a358-0c4283a4b3db"
      },
      "execution_count": null,
      "outputs": [
        {
          "output_type": "stream",
          "name": "stdout",
          "text": [
            "Sum from 0 to 10:  55\n"
          ]
        }
      ]
    },
    {
      "cell_type": "code",
      "source": [
        "# 11.Accept 5 integer values from user and display their sum.\n",
        "\n",
        "print(\"Enter five values: \")\n",
        "\n",
        "i=0\n",
        "sum=0\n",
        "while(i<5):\n",
        "  values=int(input())\n",
        "  sum=sum+values\n",
        "  i=i+1\n",
        "\n",
        "print(\"Sum is: \",sum)"
      ],
      "metadata": {
        "colab": {
          "base_uri": "https://localhost:8080/"
        },
        "id": "WZQ35DuD5Gio",
        "outputId": "2c7befd5-e93d-4f67-e0a2-dd8324650457"
      },
      "execution_count": null,
      "outputs": [
        {
          "output_type": "stream",
          "name": "stdout",
          "text": [
            "Enter five values: \n",
            "1\n",
            "2\n",
            "3\n",
            "4\n",
            "5\n",
            "Sum is:  15\n"
          ]
        }
      ]
    },
    {
      "cell_type": "code",
      "source": [
        "# 12.Write a Python code to keep accepting integer values from user until 0 is entered. Display sum of the given values.\n",
        "\n",
        "sum=0\n",
        "while(True):\n",
        "  value=int(input())\n",
        "  if(value==0):\n",
        "    break;\n",
        "  else:\n",
        "    sum=sum+value\n",
        "\n",
        "print(\"Sum is: \",sum)"
      ],
      "metadata": {
        "colab": {
          "base_uri": "https://localhost:8080/"
        },
        "id": "vR-RhGwQ5iUo",
        "outputId": "d37720ed-74b5-45a7-b5f3-a3c22ae9d54a"
      },
      "execution_count": null,
      "outputs": [
        {
          "output_type": "stream",
          "name": "stdout",
          "text": [
            "1\n",
            "2\n",
            "0\n",
            "Sum is:  3\n"
          ]
        }
      ]
    },
    {
      "cell_type": "code",
      "source": [
        "# 13.Write a Python code to accept an integer value from user and check that whether the given value is prime number or not.\n",
        "\n",
        "def checkprime(num):\n",
        "  flag=True\n",
        "  if(num<=1):\n",
        "    flag=False\n",
        "  \n",
        "  else:\n",
        "    for i in range(2,num):\n",
        "      if(num%i==0):\n",
        "        flag=False\n",
        "  \n",
        "  return flag\n",
        "\n",
        "number=int(input(\"Enter a number: \"))\n",
        "flag=checkprime(number)\n",
        "if(flag==True):\n",
        "  print(\"Number is prime.\")\n",
        "else:\n",
        "  print(\"Number is not prime\")\n",
        "\n"
      ],
      "metadata": {
        "colab": {
          "base_uri": "https://localhost:8080/"
        },
        "id": "C17smAPR55wn",
        "outputId": "dd3376eb-e38f-48f5-e68a-9ae4ec03c0ce"
      },
      "execution_count": null,
      "outputs": [
        {
          "output_type": "stream",
          "name": "stdout",
          "text": [
            "Enter a number: 5\n",
            "Number is prime.\n"
          ]
        }
      ]
    },
    {
      "cell_type": "code",
      "source": [
        "# 14.Write a program that takes a number from user and calculate the factorial of that number.\n",
        "\n",
        "\n",
        "def factorial(num):\n",
        "\n",
        "  if(num==0 or num==1):\n",
        "    return 1\n",
        "  \n",
        "  else:\n",
        "\n",
        "    return num*factorial(num-1)\n",
        "\n",
        "\n",
        "number = int(input(\"Enter a number: \"))\n",
        "fac=factorial(number)\n",
        "print(fac)\n",
        "\n"
      ],
      "metadata": {
        "colab": {
          "base_uri": "https://localhost:8080/"
        },
        "id": "MiwcQfhU634K",
        "outputId": "c6359d63-7017-4f50-a1d5-427eeb66b778"
      },
      "execution_count": null,
      "outputs": [
        {
          "output_type": "stream",
          "name": "stdout",
          "text": [
            "Enter a number: 3\n",
            "6\n"
          ]
        }
      ]
    },
    {
      "cell_type": "code",
      "source": [
        "# 15.Write a Python code to accept marks of a student from 1-100 and display the grade according to the following formula.\n",
        "\n",
        "\n",
        "\n",
        "def grade(marks):\n",
        "  if(marks > 100 or marks <1):\n",
        "    print(\"Enter correct marks!!\")\n",
        "\n",
        "  else:\n",
        "\n",
        "    if(marks<50):\n",
        "      print(\"Your grade is F\")\n",
        "    \n",
        "    elif(marks>=50 and marks<=60):\n",
        "      print(\"Your grade is E\")\n",
        "    \n",
        "    elif(marks>=61 and marks<=70):\n",
        "      print(\"Your grade is D\")\n",
        "\n",
        "    elif(marks>=71 and marks<=80):\n",
        "      print(\"Your grade is C\")\n",
        "\n",
        "    elif(marks>=81 and marks<=90):\n",
        "      print(\"Your grade is B\")\n",
        "\n",
        "    else:\n",
        "      print(\"Your grade is A\")\n",
        "    \n",
        "  \n",
        "\n",
        "\n",
        "\n",
        "marks=int(input(\"Enter marks from (1-100): \"))\n",
        "grade(marks)\n",
        "\n"
      ],
      "metadata": {
        "colab": {
          "base_uri": "https://localhost:8080/"
        },
        "id": "JnAsZ3AO7r6i",
        "outputId": "e7b0baf1-3831-4a5c-a232-b08940b67e1b"
      },
      "execution_count": null,
      "outputs": [
        {
          "output_type": "stream",
          "name": "stdout",
          "text": [
            "Enter marks from (1-100): 0\n",
            "Enter correct marks!!\n"
          ]
        }
      ]
    }
  ]
}